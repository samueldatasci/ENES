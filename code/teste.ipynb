{
 "cells": [
  {
   "cell_type": "code",
   "execution_count": 1,
   "metadata": {},
   "outputs": [],
   "source": [
    "import pandas as pd\n",
    "import numpy as np\n",
    "\n",
    "from ImportUtils import vprint, vprint_time\n",
    "\n",
    "import matplotlib as mpl\n",
    "import matplotlib.pyplot as plt\n",
    "import matplotlib.ticker as ticker\n",
    "import matplotlib.colors as mcolors\n",
    "\n",
    "plt.style.use('fivethirtyeight')\n",
    "# other interesting and well-knwon styles: 'ggplot', 'seaborn'\n",
    "\n",
    "\n",
    "from ChartUtils import chart\n",
    "\n",
    "import locale\n",
    "\n",
    "# Set the locale to your system's default (for the desired thousands separator)\n",
    "locale.setlocale(locale.LC_ALL, 'pt_PT')\n",
    "\n",
    "from ImportUtils import get_dfAll_from_Parquet, get_dfGeo_from_Parquet, get_dfGeo_from_MDB\n",
    "\n",
    "K_MATPLOTLIB_STYLES_FILE = \"NOVAENES.mplstyle\"\n"
   ]
  },
  {
   "cell_type": "code",
   "execution_count": 21,
   "metadata": {},
   "outputs": [],
   "source": []
  },
  {
   "cell_type": "code",
   "execution_count": 4,
   "metadata": {},
   "outputs": [],
   "source": [
    "def chart_bar(df, xvar='', xlabel = '', xlimit=(0,20), yvar='count', ylabel='Number of exams', ylimit=(0, None), zvar='', title=None, grid=None, colormap='NOVAIMS', stacked=False, normalize=False):\n",
    "\t# Pivot the DataFrame to create the data for the stacked bar chart\n",
    "\n",
    "\n",
    "\n",
    "\tif zvar == '' or zvar == None:\n",
    "\t\tdf_grouped = df.groupby(xvar).size().reset_index(xvar)\n",
    "\telse:\n",
    "\t\tdf_grouped = df.groupby(xvar)[zvar].value_counts(normalize=normalize).unstack(zvar)\n",
    "\n",
    "\t\tdf_grouped = df_grouped.reset_index()\n",
    "\t\n",
    "\tplt = df_grouped.plot.bar(x=xvar, stacked=stacked, colormap=colormap, figsize=(10,5), grid=grid, title=title, xlabel=xlabel, ylabel=ylabel, xlim=xlimit, ylim=ylimit, rot=0, fontsize=12, legend=True, ax=None, subplots=False)\n",
    "\n",
    "\t# show the plot\n",
    "\tplt.show()\n"
   ]
  },
  {
   "cell_type": "code",
   "execution_count": 5,
   "metadata": {},
   "outputs": [],
   "source": [
    "# def zz():\n",
    "# \tdf_grouped = np.dataframe\n",
    "\n",
    "# \tdf_grouped.plot(kind='bar', stacked=stacked, colormap=colormap)\n",
    "\n",
    "\n",
    "# \t# Plot the stacked bar chart\n",
    "\t\n",
    "# \tif xlabel is None:\n",
    "# \t\txlabel = xvar.capitalize()\n",
    "# \tif ylabel is None:\n",
    "# \t\tylabel = 'Contagem'\n",
    "\n",
    "# \tif title is None:\n",
    "# \t\ttitle = \"Exames por \" + xvar.capitalize() + \" e por \" + zvar.capitalize()\n",
    "\n",
    "\n",
    "# \tplt.xlabel(xlabel=xlabel)\n",
    "# \tplt.ylabel(ylabel=ylabel)\n",
    "# \tplt.title( label=title, loc='center', pad=20, fontsize=12, fontweight='bold')\n",
    "# \tplt.legend(title=legendlabel)\n",
    "# \t# plt.grid(grid)\n",
    "\n",
    "# \tif legendlabel is None:\n",
    "# \t\tlegendlabel = zvar.capitalize()\n",
    "# \tplt.show()\n"
   ]
  },
  {
   "cell_type": "code",
   "execution_count": 6,
   "metadata": {},
   "outputs": [],
   "source": [
    "def chart_line(df, xvar='', xlabel = '', xlimit=(0,20), yvar='count', ylabel='Nuber of exams', ylimit=(0, None), zvar='', title=None, grid=True, colormap='NOVAIMS', stacked=False, normalize=False):\n",
    "#def chart_bar(df, xvar='Class_Exam', xlabel = 'Nota no exame', xlimit=(0,20), yvar='count', ylabel='Número de exames', ylimit=(0, None), zvar='Fase', title=None, grid=True, colormap='Set3', stacked=False, normalize=False):\n",
    "\t# Pivot the DataFrame to create the data for the stacked bar chart\n",
    "\n",
    "\tif zvar == '' or zvar == None:\n",
    "\t\tdf_grouped = df.groupby(xvar).size().reset_index(xvar)\n",
    "\telse:\n",
    "\t\tdf_grouped = df.groupby(xvar)[zvar].value_counts(normalize=normalize).unstack(zvar)\n",
    "\t\tdf_grouped = df_grouped.reset_index()\n",
    "\t\n",
    "\tdf_grouped.plot.line(x=xvar, stacked=stacked, colormap=colormap, figsize=(10,5), grid=grid, title=title, xlabel=xlabel, ylabel=ylabel, xlim=xlimit, ylim=ylimit, rot=0, fontsize=12, legend=True, ax=None, subplots=False)\n"
   ]
  },
  {
   "cell_type": "code",
   "execution_count": 69,
   "metadata": {},
   "outputs": [],
   "source": []
  },
  {
   "cell_type": "code",
   "execution_count": 118,
   "metadata": {},
   "outputs": [],
   "source": []
  },
  {
   "cell_type": "code",
   "execution_count": null,
   "metadata": {},
   "outputs": [],
   "source": []
  },
  {
   "cell_type": "code",
   "execution_count": null,
   "metadata": {},
   "outputs": [],
   "source": []
  },
  {
   "cell_type": "code",
   "execution_count": null,
   "metadata": {},
   "outputs": [],
   "source": [
    "\n"
   ]
  },
  {
   "cell_type": "code",
   "execution_count": null,
   "metadata": {},
   "outputs": [],
   "source": []
  },
  {
   "cell_type": "code",
   "execution_count": null,
   "metadata": {},
   "outputs": [],
   "source": [
    "\n"
   ]
  }
 ],
 "metadata": {
  "kernelspec": {
   "display_name": "base",
   "language": "python",
   "name": "python3"
  },
  "language_info": {
   "codemirror_mode": {
    "name": "ipython",
    "version": 3
   },
   "file_extension": ".py",
   "mimetype": "text/x-python",
   "name": "python",
   "nbconvert_exporter": "python",
   "pygments_lexer": "ipython3",
   "version": "3.10.9"
  }
 },
 "nbformat": 4,
 "nbformat_minor": 2
}
