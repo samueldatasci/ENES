{
 "cells": [
  {
   "cell_type": "code",
   "execution_count": 16,
   "metadata": {},
   "outputs": [],
   "source": [
    "#!pip install wget\n",
    "\n",
    "# importing the requests module\n",
    "import requests\n",
    "import wget\n",
    "\n",
    "from os import rename\n",
    "from os.path import exists\n",
    "\n",
    "\n",
    "# importing the zipfile module\n",
    "from zipfile import ZipFile\n",
    "  \n",
    "import pyodbc\n",
    "import pandas as pd\n",
    "import numpy as np\n"
   ]
  },
  {
   "cell_type": "code",
   "execution_count": null,
   "metadata": {},
   "outputs": [],
   "source": [
    "\n"
   ]
  },
  {
   "cell_type": "code",
   "execution_count": 2,
   "metadata": {},
   "outputs": [],
   "source": [
    "dicFiles = {}\n",
    "dicParams = {}\n",
    "dicParams['dataFolder'] = \"C:/ENES/\"\n",
    "dicParams['dataFolderZIP'] = dicParams['dataFolder'] + \"ZIP/\"\n",
    "dicParams['dataFolderMDB'] = dicParams['dataFolder'] + \"MDB/\"\n",
    "dicParams[\"FirstRun\"] = True\n",
    "\n",
    "\n",
    "\n",
    "dicFiles['ENES2008.zip'] =  'https://www.dge.mec.pt/sites/default/files/JNE/enes2008_0.zip'\n",
    "dicFiles['ENES2009.zip'] =  'http://www.dge.mec.pt/sites/default/files/JNE/enes2009.zip'\n",
    "dicFiles['ENES2010.zip'] =  'http://www.dge.mec.pt/sites/default/files/JNE/2010_enes.zip'\n",
    "\n",
    "dicFiles['ENES2011.zip'] =  'http://www.dge.mec.pt/sites/default/files/JNE/2011_enes.zip'\n",
    "dicFiles['ENES2012.zip'] =  'http://www.dge.mec.pt/sites/default/files/JNE/2012_enes_secun.zip'\n",
    "dicFiles['ENES2013.zip'] =  'http://www.dge.mec.pt/sites/default/files/JNE/2013_enes_sec.zip'\n",
    "dicFiles['ENES2014.zip'] =  'http://www.dge.mec.pt/sites/default/files/JNE/enes2014.zip'\n",
    "dicFiles['ENES2015.zip'] =  'http://www.dge.mec.pt/sites/default/files/JNE/enes2015_0.zip'\n",
    "dicFiles['ENES2016.zip'] =  'http://www.dge.mec.pt/sites/default/files/JNE/enes2016-media_2.zip'\n",
    "dicFiles['ENES2017.zip'] =  'http://www.dge.mec.pt/sites/default/files/JNE/enes2017-final.zip'\n",
    "dicFiles['ENES2018.zip'] =  'http://www.dge.mec.pt/sites/default/files/JNE/enes2018.zip'\n",
    "dicFiles['ENES2019.zip'] =  'http://www.dge.mec.pt/sites/default/files/JNE/enes2019.zip'\n",
    "\n",
    "dicFiles['ENES2020.zip'] =  'http://www.dge.mec.pt/sites/default/files/JNE/enes_2020.zip'\n",
    "dicFiles['ENES2021.zip'] =  'http://www.dge.mec.pt/sites/default/files/JNE/enes2021.zip'\n",
    "dicFiles['ENES2022.zip'] =  'http://www.dge.mec.pt/sites/default/files/JNE/enes2022_bd_imprensa.zip'\n",
    "\n",
    "\n",
    "dicFiles['ENEB2008.zip'] =  'http://www.dge.mec.pt/sites/default/files/JNE/eneb2008-itens_1.zip'\n",
    "dicFiles['ENEB2009.zip'] =  'http://www.dge.mec.pt/sites/default/files/JNE/eneb2009.zip'\n",
    "dicFiles['ENEB2010.zip'] =  'http://www.dge.mec.pt/sites/default/files/JNE/2010_eneb.zip'\n",
    "\n",
    "dicFiles['ENEB2011.zip'] =  'http://www.dge.mec.pt/sites/default/files/JNE/2011_eneb.zip'\n",
    "dicFiles['ENEB2012.zip'] =  'http://www.dge.mec.pt/sites/default/files/JNE/2012_eneb_eb.zip'\n",
    "dicFiles['ENEB2013.zip'] =  'http://www.dge.mec.pt/sites/default/files/JNE/2013_eneb_2_3ciclos.zip'\n",
    "dicFiles['ENEB2014.zip'] =  'http://www.dge.mec.pt/sites/default/files/JNE/eneb2014.zip'\n",
    "dicFiles['ENEB2015.zip'] =  'http://www.dge.mec.pt/sites/default/files/JNE/eneb2015.zip'\n",
    "dicFiles['ENEB2016.zip'] =  'http://www.dge.mec.pt/sites/default/files/JNE/eneb2016.zip'\n",
    "dicFiles['ENEB2017.zip'] =  'http://www.dge.mec.pt/sites/default/files/JNE/eneb2017-final.zip'\n",
    "dicFiles['ENEB2018.zip'] =  'http://www.dge.mec.pt/sites/default/files/JNE/eneb2018_final_1.zip'\n",
    "dicFiles['ENEB2019.zip'] =  'http://www.dge.mec.pt/sites/default/files/JNE/eneb2019_0.zip'\n",
    "\n"
   ]
  },
  {
   "cell_type": "code",
   "execution_count": null,
   "metadata": {},
   "outputs": [],
   "source": [
    "if dicParams[\"FirstRun\"] == True:\n",
    "    # loading the temp.zip and creating a zip object\n",
    "\n",
    "    # download files in dicFiles from the Internet\n",
    "    for key in dicFiles.keys():\n",
    "        if not exists(dicParams['dataFolderZIP'] + key):\n",
    "            print(\"Downloading \" + key)\n",
    "            wget.download(dicFiles[key], dicParams['dataFolderZIP'] + key)\n",
    "\n"
   ]
  },
  {
   "cell_type": "code",
   "execution_count": null,
   "metadata": {},
   "outputs": [],
   "source": []
  },
  {
   "cell_type": "code",
   "execution_count": 20,
   "metadata": {},
   "outputs": [
    {
     "name": "stdout",
     "output_type": "stream",
     "text": [
      "Rename C:/ENES/MDB/ENES2008.mdb to C:/ENES/MDB/ENES2008.mdb\n",
      "Rename C:/ENES/MDB/ENES2009.mdb to C:/ENES/MDB/ENES2009.mdb\n",
      "Rename C:/ENES/MDB/ENES2010.mdb to C:/ENES/MDB/ENES2010.mdb\n",
      "Rename C:/ENES/MDB/enes2011.mdb to C:/ENES/MDB/ENES2011.mdb\n",
      "Rename C:/ENES/MDB/enes2012.mdb to C:/ENES/MDB/ENES2012.mdb\n",
      "Rename C:/ENES/MDB/enes2013.mdb to C:/ENES/MDB/ENES2013.mdb\n",
      "Rename C:/ENES/MDB/enes2014.mdb to C:/ENES/MDB/ENES2014.mdb\n",
      "Rename C:/ENES/MDB/enes2015.mdb to C:/ENES/MDB/ENES2015.mdb\n",
      "Rename C:/ENES/MDB/enes2016-Media 2.mdb to C:/ENES/MDB/ENES2016.mdb\n",
      "Rename C:/ENES/MDB/enes2017-Final.mdb to C:/ENES/MDB/ENES2017.mdb\n",
      "Rename C:/ENES/MDB/Enes2018.mdb to C:/ENES/MDB/ENES2018.mdb\n",
      "Rename C:/ENES/MDB/enes2019.mdb to C:/ENES/MDB/ENES2019.mdb\n",
      "Rename C:/ENES/MDB/ENES 2020.mdb to C:/ENES/MDB/ENES2020.mdb\n",
      "Rename C:/ENES/MDB/enes2021.mdb to C:/ENES/MDB/ENES2021.mdb\n",
      "Rename C:/ENES/MDB/enes2022 BD imprensa.mdb to C:/ENES/MDB/ENES2022.mdb\n",
      "Rename C:/ENES/MDB/ENEB2008-itens.mdb to C:/ENES/MDB/ENEB2008.mdb\n",
      "Rename C:/ENES/MDB/ENEB2009.mdb to C:/ENES/MDB/ENEB2009.mdb\n",
      "Rename C:/ENES/MDB/ENEB2010.mdb to C:/ENES/MDB/ENEB2010.mdb\n",
      "Rename C:/ENES/MDB/ENEB2011.mdb to C:/ENES/MDB/ENEB2011.mdb\n",
      "Rename C:/ENES/MDB/eneb2012.mdb to C:/ENES/MDB/ENEB2012.mdb\n",
      "Rename C:/ENES/MDB/eneb2013.mdb to C:/ENES/MDB/ENEB2013.mdb\n",
      "Rename C:/ENES/MDB/eneb2014.mdb to C:/ENES/MDB/ENEB2014.mdb\n",
      "Rename C:/ENES/MDB/eneb2015.mdb to C:/ENES/MDB/ENEB2015.mdb\n",
      "Rename C:/ENES/MDB/eneb2016.mdb to C:/ENES/MDB/ENEB2016.mdb\n",
      "Rename C:/ENES/MDB/eneb2017-FINAL.mdb to C:/ENES/MDB/ENEB2017.mdb\n",
      "Rename C:/ENES/MDB/eneb2018_Final.mdb to C:/ENES/MDB/ENEB2018.mdb\n",
      "Rename C:/ENES/MDB/eneb2019.mdb to C:/ENES/MDB/ENEB2019.mdb\n"
     ]
    }
   ],
   "source": [
    "if dicParams[\"FirstRun\"] == True:\n",
    "    # loading the temp.zip and creating a zip object\n",
    "\n",
    "\n",
    "    for key in dicFiles.keys():\n",
    "        zipfile = dicParams['dataFolderZIP'] + key\n",
    "        \n",
    "        with ZipFile(zipfile, 'r') as zObject:\n",
    "            path=dicParams['dataFolderMDB'] + key[:-4] + \".mdb\"\n",
    " \n",
    "            filename = ZipFile.namelist(zObject)[0]\n",
    "\n",
    "            # Extracting specific file in the zip\n",
    "            # into a specific location.\n",
    "            #zObject.extractall( path=path )\n",
    "            #zObject.extract( member=filename, path=dicParams['dataFolder'] + \"TEMP/\" + key[:-4] + \".mdb\")\n",
    "            zObject.extract( member=filename, path=dicParams['dataFolderMDB'])\n",
    "\n",
    "\n",
    "            #if filename[:-4] != key[:-4]:\n",
    "            print(\"Rename {} to {}\".format(dicParams['dataFolderMDB'] +filename, dicParams['dataFolderMDB'] + key[:-4] + \".mdb\"))\n",
    "            rename(dicParams['dataFolderMDB'] + filename, dicParams['dataFolderMDB'] + key[:-4] + \".mdb\")\n",
    "\n",
    "\n",
    "\n",
    "\n",
    "    # Extracting specific file in the zip\n",
    "        # into a specific location.\n",
    "        "
   ]
  },
  {
   "cell_type": "code",
   "execution_count": 19,
   "metadata": {},
   "outputs": [
    {
     "name": "stdout",
     "output_type": "stream",
     "text": [
      "---------------------------------\n",
      "ENES2008.tblCodsConcelho\n"
     ]
    },
    {
     "ename": "AttributeError",
     "evalue": "'pyodbc.Row' object has no attribute 'columns'",
     "output_type": "error",
     "traceback": [
      "\u001b[1;31m---------------------------------------------------------------------------\u001b[0m",
      "\u001b[1;31mAttributeError\u001b[0m                            Traceback (most recent call last)",
      "Cell \u001b[1;32mIn[19], line 20\u001b[0m\n\u001b[0;32m     17\u001b[0m     \u001b[39mprint\u001b[39m( \u001b[39m\"\u001b[39m\u001b[39mENES\u001b[39m\u001b[39m{}\u001b[39;00m\u001b[39m.\u001b[39m\u001b[39m{}\u001b[39;00m\u001b[39m\"\u001b[39m\u001b[39m.\u001b[39mformat(ano, row\u001b[39m.\u001b[39mtable_name))\n\u001b[0;32m     19\u001b[0m     \u001b[39m# for rowinfo in row.columns(table=row.table_name):\u001b[39;00m\n\u001b[1;32m---> 20\u001b[0m     \u001b[39mfor\u001b[39;00m rowinfo \u001b[39min\u001b[39;00m row\u001b[39m.\u001b[39;49mcolumns:\n\u001b[0;32m     21\u001b[0m         \u001b[39mprint\u001b[39m( rowinfo[\u001b[39m0\u001b[39m])\n\u001b[0;32m     23\u001b[0m     \u001b[39m#for i in cnn.tables(tableType='Table'):\u001b[39;00m\n\u001b[0;32m     24\u001b[0m     \u001b[39m#    print(i.table_name + \" (\" + i.table_type + \")\" )\u001b[39;00m\n\u001b[0;32m     25\u001b[0m         \n\u001b[1;32m   (...)\u001b[0m\n\u001b[0;32m     28\u001b[0m \u001b[39m# dataf = pd.read_sql(query, cnn)\u001b[39;00m\n\u001b[0;32m     29\u001b[0m \u001b[39m# print(dataf.head(5))\u001b[39;00m\n",
      "\u001b[1;31mAttributeError\u001b[0m: 'pyodbc.Row' object has no attribute 'columns'"
     ]
    }
   ],
   "source": [
    "\n",
    "for ano in range(2008, 2009):\n",
    "\n",
    "\n",
    "    db_file = dicParams['dataFolderMDB'] +  \"ENES\" + str(ano) + \".mdb\"\n",
    "    user = \"\"\n",
    "    password = \"\"\n",
    "\n",
    "\n",
    "    #cnn = pyodbc.connect('DRIVER={{Microsoft Access Driver (*.mdb, *.accdb)}};DBQ=' + '{};Uid={};Pwd={};'.format(db_file, user, password))\n",
    "\n",
    "    cnn = pyodbc.connect(r'Driver={Microsoft Access Driver (*.mdb, *.accdb)};DBQ=' + db_file + ';')\n",
    "\n",
    "\n",
    "    cursor = cnn.cursor()\n",
    "    for row in cursor.tables(tableType='TABLE'):\n",
    "        print(\"---------------------------------\")\n",
    "        print( \"ENES{}.{}\".format(ano, row.table_name))\n",
    "\n",
    "        # for rowinfo in row.columns(table=row.table_name):\n",
    "        for rowinfo in row.columns:\n",
    "            print( rowinfo[0])\n",
    "\n",
    "        #for i in cnn.tables(tableType='Table'):\n",
    "        #    print(i.table_name + \" (\" + i.table_type + \")\" )\n",
    "            \n",
    "\n",
    "    # query = \"SELECT * FROM tblCodsDistrito\"\n",
    "    # dataf = pd.read_sql(query, cnn)\n",
    "    # print(dataf.head(5))\n",
    "\n",
    "    cnn.close()\n"
   ]
  },
  {
   "cell_type": "code",
   "execution_count": null,
   "metadata": {},
   "outputs": [],
   "source": []
  },
  {
   "cell_type": "code",
   "execution_count": null,
   "metadata": {},
   "outputs": [],
   "source": []
  }
 ],
 "metadata": {
  "kernelspec": {
   "display_name": "base",
   "language": "python",
   "name": "python3"
  },
  "language_info": {
   "codemirror_mode": {
    "name": "ipython",
    "version": 3
   },
   "file_extension": ".py",
   "mimetype": "text/x-python",
   "name": "python",
   "nbconvert_exporter": "python",
   "pygments_lexer": "ipython3",
   "version": "3.10.9"
  },
  "orig_nbformat": 4
 },
 "nbformat": 4,
 "nbformat_minor": 2
}
